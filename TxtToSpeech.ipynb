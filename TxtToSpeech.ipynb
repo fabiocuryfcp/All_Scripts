{
 "cells": [
  {
   "cell_type": "code",
   "execution_count": 1,
   "id": "79d417c3",
   "metadata": {
    "scrolled": true
   },
   "outputs": [],
   "source": [
    "from gtts import gTTS\n",
    "import os"
   ]
  },
  {
   "cell_type": "code",
   "execution_count": 2,
   "id": "eacde6ce",
   "metadata": {},
   "outputs": [],
   "source": [
    "# Text to be converted to speech\n",
    "text = \"Hello! This is a text-to-speech example using gTTS.\"\n",
    "text = \"Hola, como te ha ido?\" \n",
    "text = \"Alô, alô... 1, 2, 3.. Testando\"\n",
    "# text = \"\"\"Desaparecida desde o dia 5 de julho, Camille Vitória Monteiro, de 21 anos, foi encontrada morta nesta segunda-feira próximo ao Rio Magé, na Baixada Fluminense. À época do desaparecimento, parentes da jovem contaram que ela havia saído do bairro Anchieta, Zona Norte, para uma entrevista de emprego no Centro do Rio. Camille trabalhava como faxineira e era mãe de três crianças.\n",
    "# A Delegacia de Homicídios da Baixada Fluminense (DHBF) foi acionada, fez a perícia no local e o corpo foi encaminhado ao Posto Regional de Polícia Técnico-Científica (PRPTC) de Teresópolis para realizar exame de necropsia para identificar a causa da morte.Segundo as investigações, a vítima recebeu uma proposta de trabalho para tirar fotos e vídeos para comprovar uma suposta traição conjugal. Ela saiu de casa para realizar o serviço e não foi mais vista.\n",
    "# O desaparecimento de Camille era investigado pela Delegacia de Descoberta de Paradeiros (DDPA). Os agentes da especializada chegaram a solicitar prisão de dois suspeitos, mas os pedidos foram negados pela Justiça devido à falta de materialidade. Foi um deles, segundo a polícia, que contou onde estava o corpo da jovem. Segundo o suspeito, ela foi deixada em uma área de mata, no município de Magé.\n",
    "\n",
    "# De acordo com o G1, os dois suspeitos são o zelador do clube onde ela trabalhava e um ex-policial militar. O ex-policial foi detido e, na delegacia, apontou onde o corpo da jovem estava. Mesmo assim, o suspeito foi ouvido e teve que ser liberado. O ex-zelador, segundo o G1, foi quem intermediou a suposta entrevista de emprego para Camille. Em depoimento à polícia, ele disse que foi contratado por um ex-policial militar para arranjar uma \"mulher jovem e malandra para tirar fotos e vídeos da esposa de um homem que estaria sendo traído\". O corpo de Camille foi levado para o Instituto Médico-Legal (IML) de Teresópolis, onde a família foi fazer o reconhecimento, de acordo com o site.\n",
    "\n",
    "# A Delegacia de Homicídios da Baixada Fluminense (DHBF) foi acionada, fez a perícia no local e o corpo foi encaminhado ao Posto Regional de Polícia Técnico-Científica (PRPTC) de Teresópolis para realizar exame de necropsia para identificar a causa da morte. As investigações continuam para apurar a dinâmica dos fatos e identificar outros envolvidos no crime.\n",
    "# \"\"\""
   ]
  },
  {
   "cell_type": "code",
   "execution_count": 3,
   "id": "1a793632",
   "metadata": {},
   "outputs": [],
   "source": [
    "# Language in which you want the text to be read\n",
    "language = 'pt'  # en,pt,de,es\n",
    "\n",
    "# Passing the text and language to the engine, slow=False means the speaking speed\n",
    "tts = gTTS(text=text, lang=language, slow=False)"
   ]
  },
  {
   "cell_type": "code",
   "execution_count": 4,
   "id": "5ec746c2",
   "metadata": {},
   "outputs": [
    {
     "data": {
      "text/plain": [
       "0"
      ]
     },
     "execution_count": 4,
     "metadata": {},
     "output_type": "execute_result"
    }
   ],
   "source": [
    "# Saving the converted audio in a file named sample.mp3\n",
    "tts.save(\"sample.mp3\")\n",
    "\n",
    "# Playing the converted file\n",
    "os.system(\"start sample.mp3\")"
   ]
  }
 ],
 "metadata": {
  "kernelspec": {
   "display_name": "Python 3 (ipykernel)",
   "language": "python",
   "name": "python3"
  },
  "language_info": {
   "codemirror_mode": {
    "name": "ipython",
    "version": 3
   },
   "file_extension": ".py",
   "mimetype": "text/x-python",
   "name": "python",
   "nbconvert_exporter": "python",
   "pygments_lexer": "ipython3",
   "version": "3.9.12"
  }
 },
 "nbformat": 4,
 "nbformat_minor": 5
}
